{
 "cells": [
  {
   "cell_type": "code",
   "execution_count": 1,
   "metadata": {},
   "outputs": [
    {
     "name": "stdout",
     "output_type": "stream",
     "text": [
      "===========================\n",
      "---------------------------\n",
      "|   -   ||   -   ||   -   |\n",
      "---------------------------\n",
      "|   -   ||   -   ||   -   |\n",
      "---------------------------\n",
      "|   -   ||   O   ||   -   |\n",
      "---------------------------\n",
      "===========================\n",
      "---------------------------\n",
      "|   -   ||   -   ||   -   |\n",
      "---------------------------\n",
      "|   -   ||   -   ||   -   |\n",
      "---------------------------\n",
      "|   -   ||   O   ||   X   |\n",
      "---------------------------\n",
      "===========================\n",
      "---------------------------\n",
      "|   -   ||   -   ||   -   |\n",
      "---------------------------\n",
      "|   -   ||   O   ||   -   |\n",
      "---------------------------\n",
      "|   -   ||   O   ||   X   |\n",
      "---------------------------\n",
      "===========================\n",
      "---------------------------\n",
      "|   -   ||   -   ||   -   |\n",
      "---------------------------\n",
      "|   -   ||   O   ||   -   |\n",
      "---------------------------\n",
      "|   X   ||   O   ||   X   |\n",
      "---------------------------\n",
      "===========================\n",
      "---------------------------\n",
      "|   -   ||   -   ||   -   |\n",
      "---------------------------\n",
      "|   O   ||   O   ||   -   |\n",
      "---------------------------\n",
      "|   X   ||   O   ||   X   |\n",
      "---------------------------\n",
      "===========================\n",
      "---------------------------\n",
      "|   -   ||   -   ||   -   |\n",
      "---------------------------\n",
      "|   O   ||   O   ||   X   |\n",
      "---------------------------\n",
      "|   X   ||   O   ||   X   |\n",
      "---------------------------\n",
      "===========================\n",
      "---------------------------\n",
      "|   -   ||   -   ||   O   |\n",
      "---------------------------\n",
      "|   O   ||   O   ||   X   |\n",
      "---------------------------\n",
      "|   X   ||   O   ||   X   |\n",
      "---------------------------\n",
      "===========================\n",
      "---------------------------\n",
      "|   X   ||   -   ||   O   |\n",
      "---------------------------\n",
      "|   O   ||   O   ||   X   |\n",
      "---------------------------\n",
      "|   X   ||   O   ||   X   |\n",
      "---------------------------\n",
      "===========================\n",
      "---------------------------\n",
      "|   X   ||   O   ||   O   |\n",
      "---------------------------\n",
      "|   O   ||   O   ||   X   |\n",
      "---------------------------\n",
      "|   X   ||   O   ||   X   |\n",
      "---------------------------\n",
      "Gano jugador 2\n"
     ]
    }
   ],
   "source": [
    "import numpy as np\n",
    "from Tic_Tac_Toe import TicTacToe\n",
    "from Agent import Agent\n",
    "from Random_Agent import RandomAgent\n",
    "from Agent_Minimax import AgentMinimax\n",
    "\n",
    "def print_winner(winner: int):\n",
    "    if winner == 0:\n",
    "        print(\"Empate\")\n",
    "    elif winner == 1:\n",
    "        print(\"Gano jugador 1\")\n",
    "    elif winner == 2:\n",
    "        print(\"Gano jugador 2\")\n",
    "    else:\n",
    "        print(\"Paso algo raro\")\n",
    "    \n",
    "agent1 = AgentMinimax(1) #0\n",
    "agent2 = RandomAgent(2) #X\n",
    "agents = [agent1, agent2]\n",
    "\n",
    "tic_tac_toe = TicTacToe()\n",
    "done = False\n",
    "winner = -1\n",
    "i = 0\n",
    "while not done:\n",
    "    i = (i+1) % 2\n",
    "    pos, value = agents[i].policy(tic_tac_toe)\n",
    "    done, winner = tic_tac_toe.play(pos, agents[i].player)\n",
    "    tic_tac_toe.render()\n",
    "print_winner(winner)\n"
   ]
  },
  {
   "cell_type": "code",
   "execution_count": null,
   "metadata": {},
   "outputs": [],
   "source": []
  },
  {
   "cell_type": "code",
   "execution_count": 63,
   "metadata": {},
   "outputs": [],
   "source": [
    "def print_winner(winner: int):\n",
    "    if winner == 0:\n",
    "        print(\"Empate\")\n",
    "    elif winner == 1:\n",
    "        print(\"Gano jugador 1\")\n",
    "    elif winner == 2:\n",
    "        print(\"Gano jugador 2\")\n",
    "    else:\n",
    "        print(\"Paso algo raro\")"
   ]
  },
  {
   "cell_type": "code",
   "execution_count": 71,
   "metadata": {
    "tags": []
   },
   "outputs": [
    {
     "name": "stdout",
     "output_type": "stream",
     "text": [
      "===========================\n",
      "---------------------------\n",
      "|   -   ||   O   ||   -   |\n",
      "---------------------------\n",
      "|   -   ||   -   ||   -   |\n",
      "---------------------------\n",
      "|   -   ||   -   ||   -   |\n",
      "---------------------------\n",
      "===========================\n",
      "---------------------------\n",
      "|   -   ||   O   ||   -   |\n",
      "---------------------------\n",
      "|   -   ||   -   ||   X   |\n",
      "---------------------------\n",
      "|   -   ||   -   ||   -   |\n",
      "---------------------------\n",
      "===========================\n",
      "---------------------------\n",
      "|   -   ||   O   ||   O   |\n",
      "---------------------------\n",
      "|   -   ||   -   ||   X   |\n",
      "---------------------------\n",
      "|   -   ||   -   ||   -   |\n",
      "---------------------------\n",
      "===========================\n",
      "---------------------------\n",
      "|   -   ||   O   ||   O   |\n",
      "---------------------------\n",
      "|   X   ||   -   ||   X   |\n",
      "---------------------------\n",
      "|   -   ||   -   ||   -   |\n",
      "---------------------------\n",
      "===========================\n",
      "---------------------------\n",
      "|   -   ||   O   ||   O   |\n",
      "---------------------------\n",
      "|   X   ||   -   ||   X   |\n",
      "---------------------------\n",
      "|   -   ||   O   ||   -   |\n",
      "---------------------------\n",
      "===========================\n",
      "---------------------------\n",
      "|   X   ||   O   ||   O   |\n",
      "---------------------------\n",
      "|   X   ||   -   ||   X   |\n",
      "---------------------------\n",
      "|   -   ||   O   ||   -   |\n",
      "---------------------------\n",
      "===========================\n",
      "---------------------------\n",
      "|   X   ||   O   ||   O   |\n",
      "---------------------------\n",
      "|   X   ||   O   ||   X   |\n",
      "---------------------------\n",
      "|   -   ||   O   ||   -   |\n",
      "---------------------------\n",
      "Gano jugador 2\n"
     ]
    }
   ],
   "source": [
    "agent1 = RandomAgent(1) #0\n",
    "agent2 = RandomAgent(2) #X\n",
    "agents = [agent1, agent2]\n",
    "\n",
    "tic_tac_toe = TicTacToe()\n",
    "done = False\n",
    "winner = -1\n",
    "i = 0\n",
    "while not done:\n",
    "    i = (i+1) % 2\n",
    "    pos, value = agents[i].policy(tic_tac_toe)\n",
    "    done, winner = tic_tac_toe.play(pos, agents[i].player)\n",
    "    tic_tac_toe.render()\n",
    "print_winner(winner)"
   ]
  },
  {
   "cell_type": "code",
   "execution_count": 73,
   "metadata": {},
   "outputs": [
    {
     "name": "stdout",
     "output_type": "stream",
     "text": [
      "===========================\n",
      "---------------------------\n",
      "|   O   ||   -   ||   -   |\n",
      "---------------------------\n",
      "|   -   ||   -   ||   -   |\n",
      "---------------------------\n",
      "|   -   ||   -   ||   -   |\n",
      "---------------------------\n",
      "[=     ]\r"
     ]
    },
    {
     "ename": "TypeError",
     "evalue": "'NoneType' object is not subscriptable",
     "output_type": "error",
     "traceback": [
      "\u001b[1;31m---------------------------------------------------------------------------\u001b[0m",
      "\u001b[1;31mTypeError\u001b[0m                                 Traceback (most recent call last)",
      "\u001b[1;32mc:\\Users\\chelo\\Documents\\projects\\ia\\TicTacToe\\Main.ipynb Celda 4\u001b[0m in \u001b[0;36m<cell line: 9>\u001b[1;34m()\u001b[0m\n\u001b[0;32m     <a href='vscode-notebook-cell:/c%3A/Users/chelo/Documents/projects/ia/TicTacToe/Main.ipynb#W3sZmlsZQ%3D%3D?line=9'>10</a>\u001b[0m     i \u001b[39m=\u001b[39m (i\u001b[39m+\u001b[39m\u001b[39m1\u001b[39m) \u001b[39m%\u001b[39m \u001b[39m2\u001b[39m\n\u001b[0;32m     <a href='vscode-notebook-cell:/c%3A/Users/chelo/Documents/projects/ia/TicTacToe/Main.ipynb#W3sZmlsZQ%3D%3D?line=10'>11</a>\u001b[0m     pos, value \u001b[39m=\u001b[39m agents[i]\u001b[39m.\u001b[39mpolicy(tic_tac_toe)\n\u001b[1;32m---> <a href='vscode-notebook-cell:/c%3A/Users/chelo/Documents/projects/ia/TicTacToe/Main.ipynb#W3sZmlsZQ%3D%3D?line=11'>12</a>\u001b[0m     done, winner \u001b[39m=\u001b[39m tic_tac_toe\u001b[39m.\u001b[39;49mplay(pos, agents[i]\u001b[39m.\u001b[39;49mplayer)\n\u001b[0;32m     <a href='vscode-notebook-cell:/c%3A/Users/chelo/Documents/projects/ia/TicTacToe/Main.ipynb#W3sZmlsZQ%3D%3D?line=12'>13</a>\u001b[0m     tic_tac_toe\u001b[39m.\u001b[39mrender()\n\u001b[0;32m     <a href='vscode-notebook-cell:/c%3A/Users/chelo/Documents/projects/ia/TicTacToe/Main.ipynb#W3sZmlsZQ%3D%3D?line=13'>14</a>\u001b[0m print_winner(winner)\n",
      "File \u001b[1;32mc:\\Users\\chelo\\Documents\\projects\\ia\\TicTacToe\\Tic_Tac_Toe.py:31\u001b[0m, in \u001b[0;36mTicTacToe.play\u001b[1;34m(self, pos, value)\u001b[0m\n\u001b[0;32m     29\u001b[0m \u001b[39mif\u001b[39;00m \u001b[39mall\u001b[39m(value \u001b[39m!=\u001b[39m i \u001b[39mfor\u001b[39;00m i \u001b[39min\u001b[39;00m [\u001b[39m1\u001b[39m, \u001b[39m2\u001b[39m]):\n\u001b[0;32m     30\u001b[0m     \u001b[39mraise\u001b[39;00m \u001b[39mException\u001b[39;00m(\u001b[39m\"\u001b[39m\u001b[39mYou can only insert X(1) or O(2) in the grid. Received: \u001b[39m\u001b[39m{}\u001b[39;00m\u001b[39m\"\u001b[39m\u001b[39m.\u001b[39mformat(value))\n\u001b[1;32m---> 31\u001b[0m \u001b[39mif\u001b[39;00m \u001b[39mself\u001b[39m\u001b[39m.\u001b[39mgrid[pos[\u001b[39m0\u001b[39;49m]][pos[\u001b[39m1\u001b[39m]] \u001b[39m!=\u001b[39m \u001b[39m0\u001b[39m:\n\u001b[0;32m     32\u001b[0m     \u001b[39mraise\u001b[39;00m \u001b[39mException\u001b[39;00m(\u001b[39m\"\u001b[39m\u001b[39mYou can only add symbols in empty spaces\u001b[39m\u001b[39m\"\u001b[39m)\n\u001b[0;32m     33\u001b[0m \u001b[39mself\u001b[39m\u001b[39m.\u001b[39mgrid[pos[\u001b[39m0\u001b[39m]][pos[\u001b[39m1\u001b[39m]] \u001b[39m=\u001b[39m value        \n",
      "\u001b[1;31mTypeError\u001b[0m: 'NoneType' object is not subscriptable"
     ]
    }
   ],
   "source": [
    "agent1 = AgentMinimax(1) #0\n",
    "agent2 = RandomAgent(2) #X\n",
    "agents = [agent1, agent2]\n",
    "\n",
    "tic_tac_toe = TicTacToe()\n",
    "done = False\n",
    "winner = -1\n",
    "i = 0\n",
    "while not done:\n",
    "    i = (i+1) % 2\n",
    "    pos, value = agents[i].policy(tic_tac_toe)\n",
    "    done, winner = tic_tac_toe.play(pos, agents[i].player)\n",
    "    tic_tac_toe.render()\n",
    "print_winner(winner)\n"
   ]
  },
  {
   "cell_type": "code",
   "execution_count": 38,
   "metadata": {},
   "outputs": [
    {
     "name": "stdout",
     "output_type": "stream",
     "text": [
      "[[1 0 0]\n",
      " [0 1 0]\n",
      " [0 0 1]]\n",
      "[1 0 0]\n",
      "[0 1 0]\n",
      "[0 0 1]\n"
     ]
    },
    {
     "name": "stderr",
     "output_type": "stream",
     "text": [
      "C:\\Users\\chelo\\AppData\\Local\\Temp\\ipykernel_23672\\1008204085.py:1: DeprecationWarning: `np.int` is a deprecated alias for the builtin `int`. To silence this warning, use `int` by itself. Doing this will not modify any behavior and is safe. When replacing `np.int`, you may wish to use e.g. `np.int64` or `np.int32` to specify the precision. If you wish to review your current use, check the release note link for additional information.\n",
      "Deprecated in NumPy 1.20; for more details and guidance: https://numpy.org/devdocs/release/1.20.0-notes.html#deprecations\n",
      "  grid = np.zeros((3, 3), dtype=np.int)\n"
     ]
    },
    {
     "data": {
      "text/plain": [
       "[1, 2]"
      ]
     },
     "execution_count": 38,
     "metadata": {},
     "output_type": "execute_result"
    }
   ],
   "source": [
    "grid = np.zeros((3, 3), dtype=np.int)\n",
    "grid[0][0] = 1\n",
    "grid[1][1] = 1\n",
    "grid[2][2] = 1\n",
    "grid = grid.transpose()\n",
    "print(grid)\n",
    "print(grid[0])\n",
    "print(grid[1])\n",
    "print(grid[2])\n",
    "[i for i in range(1,3)]\n"
   ]
  },
  {
   "cell_type": "code",
   "execution_count": 59,
   "metadata": {},
   "outputs": [
    {
     "name": "stdout",
     "output_type": "stream",
     "text": [
      "i: 1 = 1\n",
      "i: 2 = 0\n"
     ]
    }
   ],
   "source": [
    "for i in (1,2):\n",
    "    print(f\"i: {i} = {i%2}\")"
   ]
  }
 ],
 "metadata": {
  "kernelspec": {
   "display_name": "Python 3.10.0b3 ('.venv': venv)",
   "language": "python",
   "name": "python3"
  },
  "language_info": {
   "codemirror_mode": {
    "name": "ipython",
    "version": 3
   },
   "file_extension": ".py",
   "mimetype": "text/x-python",
   "name": "python",
   "nbconvert_exporter": "python",
   "pygments_lexer": "ipython3",
   "version": "3.10.0"
  },
  "orig_nbformat": 2,
  "vscode": {
   "interpreter": {
    "hash": "605e4aa0ec28c0f226a7ab65dbc046e797047096beb553d17c2780896666e61a"
   }
  }
 },
 "nbformat": 4,
 "nbformat_minor": 2
}
