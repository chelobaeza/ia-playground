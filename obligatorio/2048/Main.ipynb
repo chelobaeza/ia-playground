{
 "cells": [
  {
   "cell_type": "code",
   "execution_count": 1,
   "metadata": {},
   "outputs": [],
   "source": [
    "from datetime import datetime\n",
    "from GameBoard import GameBoard\n",
    "from Agent import Agent\n",
    "from Random_Agent import RandomAgent"
   ]
  },
  {
   "cell_type": "code",
   "execution_count": 2,
   "metadata": {},
   "outputs": [],
   "source": [
    "def check_win(board: GameBoard):\n",
    "    return board.get_max_tile() >= 2048\n",
    "\n",
    "\n",
    "int_to_string = ['UP', 'DOWN', 'LEFT', 'RIGHT']"
   ]
  },
  {
   "cell_type": "code",
   "execution_count": null,
   "metadata": {},
   "outputs": [],
   "source": [
    "agent: Agent\n",
    "board: GameBoard\n",
    "agent = RandomAgent()\n",
    "board = GameBoard()\n",
    "done = False\n",
    "moves = 0\n",
    "board.render()\n",
    "start = datetime.now()\n",
    "while not done:\n",
    "    action = agent.play(board)\n",
    "    print('Next Action: \"{}\"'.format(\n",
    "        int_to_string[action]), ',   Move: {}'.format(moves))\n",
    "    done = board.play(action)\n",
    "    done = done or check_win(board)\n",
    "    board.render()\n",
    "    moves += 1\n",
    "\n",
    "print('\\nTotal time: {}'.format(datetime.now() - start))\n",
    "print('\\nTotal Moves: {}'.format(moves))\n",
    "if check_win(board):\n",
    "    print(\"WON THE GAME!!!!!!!!\")\n",
    "else:\n",
    "    print(\"BOOOOOOOOOO!!!!!!!!!\")\n"
   ]
  },
  {
   "cell_type": "code",
   "execution_count": 3,
   "metadata": {},
   "outputs": [],
   "source": [
    "\n",
    "board = GameBoard()\n"
   ]
  },
  {
   "cell_type": "code",
   "execution_count": 6,
   "metadata": {},
   "outputs": [
    {
     "data": {
      "text/plain": [
       "array([[0., 0., 0., 0.],\n",
       "       [0., 0., 2., 0.],\n",
       "       [0., 0., 0., 2.],\n",
       "       [0., 0., 0., 0.]])"
      ]
     },
     "execution_count": 6,
     "metadata": {},
     "output_type": "execute_result"
    }
   ],
   "source": [
    "board.grid"
   ]
  },
  {
   "cell_type": "code",
   "execution_count": 18,
   "metadata": {},
   "outputs": [
    {
     "name": "stdout",
     "output_type": "stream",
     "text": [
      "[ 0.  0. -2.  0.]\n",
      "[ 0.  0.  2. -2.]\n",
      "[0. 0. 0. 2.]\n"
     ]
    }
   ],
   "source": [
    "for row in range(board.grid.shape[0] - 1):\n",
    "    print(board.grid[row] - board.grid[row + 1])"
   ]
  },
  {
   "cell_type": "code",
   "execution_count": 27,
   "metadata": {},
   "outputs": [
    {
     "data": {
      "text/plain": [
       "array([[0., 0., 0., 0.],\n",
       "       [0., 0., 0., 0.],\n",
       "       [0., 2., 0., 0.],\n",
       "       [0., 0., 2., 0.]])"
      ]
     },
     "execution_count": 27,
     "metadata": {},
     "output_type": "execute_result"
    }
   ],
   "source": [
    "import numpy\n",
    "numpy.array([board.grid[:, row]  for row in range(board.grid.shape[0] )])"
   ]
  },
  {
   "cell_type": "code",
   "execution_count": 26,
   "metadata": {},
   "outputs": [
    {
     "data": {
      "text/plain": [
       "array([[ 0.,  0.,  0.,  0.],\n",
       "       [ 0., -2.,  0.,  0.],\n",
       "       [ 0.,  2., -2.,  0.]])"
      ]
     },
     "execution_count": 26,
     "metadata": {},
     "output_type": "execute_result"
    }
   ],
   "source": [
    "import numpy\n",
    "numpy.array([board.grid[:, row] - board.grid[:, row + 1] for row in range(board.grid.shape[0] - 1)])\n"
   ]
  },
  {
   "cell_type": "code",
   "execution_count": 12,
   "metadata": {},
   "outputs": [],
   "source": [
    "from array import ArrayType\n",
    "import dataclasses\n",
    "import numpy as np\n",
    "from expectimax_agent import ExpectiMaxAgent\n",
    "\n",
    "class mock:\n",
    "    grid = None\n",
    "    def __init__(self, grid) -> None:\n",
    "        self.grid = grid\n",
    "    \n",
    "a1 = np.array(\n",
    "    [[4 ,      8  ,     4  ,     2],\n",
    "     [8    ,   4 ,      2      , 4],\n",
    "    [32  ,    16     , 32    ,   2],\n",
    "    [ 2    , 128 ,     64     , 16],]\n",
    ")\n",
    "values = []\n",
    "h = ExpectiMaxAgent().heuristic_utility(mock(a1), -2)\n",
    "values.append(h)"
   ]
  },
  {
   "cell_type": "code",
   "execution_count": 16,
   "metadata": {},
   "outputs": [
    {
     "data": {
      "text/plain": [
       "-0.04755238992082798"
      ]
     },
     "execution_count": 16,
     "metadata": {},
     "output_type": "execute_result"
    }
   ],
   "source": [
    "a2 = np.array(\n",
    "    [[0,       0,       0,       2],\n",
    "     [16,       8,       0,       0],\n",
    "     [16,      8,      0,       0],\n",
    "    [32,     2,      4 ,     0]]\n",
    ")\n",
    "\n",
    "h2 = ExpectiMaxAgent().heuristic_utility(mock(a2), -2)\n",
    "h2\n"
   ]
  },
  {
   "cell_type": "code",
   "execution_count": 17,
   "metadata": {},
   "outputs": [
    {
     "data": {
      "text/plain": [
       "-0.01819155471585023"
      ]
     },
     "execution_count": 17,
     "metadata": {},
     "output_type": "execute_result"
    }
   ],
   "source": [
    "a2 = np.array(\n",
    "    [[2,       0,       0,       0],\n",
    "     [16,       8,       0,       0],\n",
    "     [16,      8,      0,       0],\n",
    "    [32,     2,      4 ,     0]]\n",
    ")\n",
    "\n",
    "h2 = ExpectiMaxAgent().heuristic_utility(mock(a2), -2)\n",
    "h2"
   ]
  },
  {
   "cell_type": "code",
   "execution_count": 26,
   "metadata": {},
   "outputs": [
    {
     "data": {
      "text/plain": [
       "-72.12494584051292"
      ]
     },
     "execution_count": 26,
     "metadata": {},
     "output_type": "execute_result"
    }
   ],
   "source": [
    "a2 = np.array(\n",
    "    [[0,       0,       0,       0],\n",
    "     [0,       0,       0,       0],\n",
    "     [32,      16,      0,       0],\n",
    "    [32,     2,      4 ,     2]]\n",
    ")\n",
    "\n",
    "h2 = ExpectiMaxAgent().heuristic_utility(mock(a2), -8)\n",
    "h2"
   ]
  },
  {
   "cell_type": "code",
   "execution_count": 45,
   "metadata": {},
   "outputs": [
    {
     "name": "stdout",
     "output_type": "stream",
     "text": [
      "-5.271204582799327e-07\n",
      "-0.0002275341936827096\n"
     ]
    },
    {
     "data": {
      "text/plain": [
       "3.572551373288748e-06"
      ]
     },
     "execution_count": 45,
     "metadata": {},
     "output_type": "execute_result"
    }
   ],
   "source": [
    "smoth = -4\n",
    "a2 = np.array(  # LEFT\n",
    "    [[128,      16,       8,       2],\n",
    "    [32,       16,       2,       0],\n",
    "    [ 4,       0 ,      0  ,     0],\n",
    "    [0,       0 ,      0,       0]]\n",
    ")\n",
    "\n",
    "h2 = ExpectiMaxAgent().heuristic_utility(mock(a2), smoth)\n",
    "print(h2)\n",
    "a2 = np.array(  # LEFT\n",
    "    [[128,      16,       8,       2],\n",
    "    [32,       16,       2,       0],\n",
    "    [ 4,       0 ,      0  ,     0],\n",
    "    [0,       0 ,      0,       0]]\n",
    ")\n",
    "\n",
    "h2 = ExpectiMaxAgent().heuristic_utility(mock(a2), smoth)\n",
    "print(h2)\n",
    "\n",
    "\n",
    "pow_grid = np.power(a2, 2)\n",
    "result = pow_grid.sum()\n",
    "1/result"
   ]
  },
  {
   "cell_type": "code",
   "execution_count": 100,
   "metadata": {},
   "outputs": [
    {
     "data": {
      "text/plain": [
       "[6, 6, 6, 5, 5, 4, 4, 3, 3, 3, 2, 2, 1, 1, 0, 0]"
      ]
     },
     "execution_count": 100,
     "metadata": {},
     "output_type": "execute_result"
    }
   ],
   "source": [
    "\n",
    "[int((16 - i) / 2.286) for i in range(16)]"
   ]
  },
  {
   "cell_type": "code",
   "execution_count": 114,
   "metadata": {},
   "outputs": [
    {
     "data": {
      "text/plain": [
       "[7, 7, 6, 6, 5, 5, 4, 4, 3, 3, 2, 2, 1, 1, 0, 0]"
      ]
     },
     "execution_count": 114,
     "metadata": {},
     "output_type": "execute_result"
    }
   ],
   "source": [
    "[int((16 - i) / 2.1) for i in range(16)]"
   ]
  },
  {
   "cell_type": "code",
   "execution_count": 188,
   "metadata": {},
   "outputs": [
    {
     "data": {
      "text/plain": [
       "[6, 6, 6, 6, 5, 5, 5, 5, 5, 4, 4, 4, 4, 4, 4, 3]"
      ]
     },
     "execution_count": 188,
     "metadata": {},
     "output_type": "execute_result"
    }
   ],
   "source": [
    "# IZQ\n",
    "[np.digitize(16-i, [0,0,0,2,8,13]) for i in range(16)]"
   ]
  },
  {
   "cell_type": "code",
   "execution_count": 182,
   "metadata": {},
   "outputs": [
    {
     "data": {
      "text/plain": [
       "[6, 5, 5, 5, 5, 5, 5, 5, 5, 5, 5, 5, 5, 5, 5, 5]"
      ]
     },
     "execution_count": 182,
     "metadata": {},
     "output_type": "execute_result"
    }
   ],
   "source": [
    "# DER\n",
    "[np.digitize(16-i, [0,0,0,0,0,16]) for i in range(16)]"
   ]
  },
  {
   "cell_type": "code",
   "execution_count": 133,
   "metadata": {},
   "outputs": [],
   "source": [
    "loses=[(767, 90.4313862323761), (855, 89.46138858795166), (696, 65.59150767326355), (978, 52.37831497192383), (1007, 51.1624116897583), (1080, 57.11292314529419), (1069, 56.39139795303345), (512, 54.60288429260254), (977, 51.015414237976074), (944, 48.8709716796875), (971, 51.57047510147095), (746, 39.53931736946106), (955, 48.72100758552551), (1011, 99.13407325744629), (964, 52.651461362838745), (835, 89.35092091560364), (790, 43.585384368896484), (955, 52.56012749671936), (980, 97.99853444099426), (996, 55.79466152191162), (879, 46.737234354019165), (898, 47.44594883918762), (1088, 115.90059733390808), (842, 44.62632751464844), (930, 50.2663369178772), (959, 51.71756958961487)]"
   ]
  }
 ],
 "metadata": {
  "kernelspec": {
   "display_name": "Python 3.9.6 ('.venv39')",
   "language": "python",
   "name": "python3"
  },
  "language_info": {
   "codemirror_mode": {
    "name": "ipython",
    "version": 3
   },
   "file_extension": ".py",
   "mimetype": "text/x-python",
   "name": "python",
   "nbconvert_exporter": "python",
   "pygments_lexer": "ipython3",
   "version": "3.9.6 (tags/v3.9.6:db3ff76, Jun 28 2021, 15:26:21) [MSC v.1929 64 bit (AMD64)]"
  },
  "orig_nbformat": 4,
  "vscode": {
   "interpreter": {
    "hash": "7be5ba7dfaf09279fc8564677807cdb2047539e4cb619958f1a218f847410711"
   }
  }
 },
 "nbformat": 4,
 "nbformat_minor": 2
}
