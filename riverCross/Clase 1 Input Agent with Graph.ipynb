{
 "cells": [
  {
   "cell_type": "code",
   "execution_count": 13,
   "metadata": {},
   "outputs": [],
   "source": [
    "import sys\n",
    "# !{sys.executable} -m pip install -U gym"
   ]
  },
  {
   "cell_type": "code",
   "execution_count": 14,
   "metadata": {},
   "outputs": [],
   "source": [
    "from riverCrossEnv import RiverCrossEnv\n",
    "from riverCrossUtils import finish, win\n",
    "from riverCrossGraph import RiverCrossGraph\n",
    "import riverCrossInputAgent as agent"
   ]
  },
  {
   "cell_type": "code",
   "execution_count": 15,
   "metadata": {},
   "outputs": [],
   "source": [
    "def run():\n",
    "    \n",
    "    env = RiverCrossEnv()\n",
    "    g = RiverCrossGraph(1500, 200)\n",
    "    \n",
    "    done = False\n",
    "    obs = env.reset()\n",
    "    g.render_node(env, obs)\n",
    "    \n",
    "    while (not(done)):\n",
    "        env.render()\n",
    "        action = agent.input_action()        \n",
    "        next_obs, reward, done, debug = env.step(action)\n",
    "        g.render_edge(env, obs, next_obs, action, done, win(next_obs))\n",
    "        obs = next_obs\n",
    "       \n",
    "    env.render()\n",
    "    finish(obs)"
   ]
  },
  {
   "cell_type": "code",
   "execution_count": 17,
   "metadata": {
    "scrolled": false,
    "slideshow": {
     "slide_type": "fragment"
    }
   },
   "outputs": [
    {
     "data": {
      "text/html": [
       "\n",
       "        <iframe\n",
       "            width=\"1500\"\n",
       "            height=\"200\"\n",
       "            src=\"rivercross.png\"\n",
       "            frameborder=\"0\"\n",
       "            allowfullscreen\n",
       "            \n",
       "        ></iframe>\n",
       "        "
      ],
      "text/plain": [
       "<IPython.lib.display.IFrame at 0x126c19d0670>"
      ]
     },
     "metadata": {},
     "output_type": "display_data"
    },
    {
     "name": "stdout",
     "output_type": "stream",
     "text": [
      "CGW< __\n"
     ]
    },
    {
     "data": {
      "text/html": [
       "\n",
       "        <iframe\n",
       "            width=\"1500\"\n",
       "            height=\"200\"\n",
       "            src=\"rivercross.png\"\n",
       "            frameborder=\"0\"\n",
       "            allowfullscreen\n",
       "            \n",
       "        ></iframe>\n",
       "        "
      ],
      "text/plain": [
       "<IPython.lib.display.IFrame at 0x126c19d04f0>"
      ]
     },
     "metadata": {},
     "output_type": "display_data"
    },
    {
     "name": "stdout",
     "output_type": "stream",
     "text": [
      "CW > _G\n"
     ]
    },
    {
     "ename": "KeyboardInterrupt",
     "evalue": "Interrupted by user",
     "output_type": "error",
     "traceback": [
      "\u001b[1;31m---------------------------------------------------------------------------\u001b[0m",
      "\u001b[1;31mKeyboardInterrupt\u001b[0m                         Traceback (most recent call last)",
      "\u001b[1;32mc:\\Users\\chelo\\Documents\\projects\\ia\\riverCross\\Clase 1 Input Agent with Graph.ipynb Celda 4\u001b[0m in \u001b[0;36m<cell line: 1>\u001b[1;34m()\u001b[0m\n\u001b[1;32m----> <a href='vscode-notebook-cell:/c%3A/Users/chelo/Documents/projects/ia/riverCross/Clase%201%20Input%20Agent%20with%20Graph.ipynb#W3sZmlsZQ%3D%3D?line=0'>1</a>\u001b[0m run()\n",
      "\u001b[1;32mc:\\Users\\chelo\\Documents\\projects\\ia\\riverCross\\Clase 1 Input Agent with Graph.ipynb Celda 4\u001b[0m in \u001b[0;36mrun\u001b[1;34m()\u001b[0m\n\u001b[0;32m     <a href='vscode-notebook-cell:/c%3A/Users/chelo/Documents/projects/ia/riverCross/Clase%201%20Input%20Agent%20with%20Graph.ipynb#W3sZmlsZQ%3D%3D?line=9'>10</a>\u001b[0m \u001b[39mwhile\u001b[39;00m (\u001b[39mnot\u001b[39;00m(done)):\n\u001b[0;32m     <a href='vscode-notebook-cell:/c%3A/Users/chelo/Documents/projects/ia/riverCross/Clase%201%20Input%20Agent%20with%20Graph.ipynb#W3sZmlsZQ%3D%3D?line=10'>11</a>\u001b[0m     env\u001b[39m.\u001b[39mrender()\n\u001b[1;32m---> <a href='vscode-notebook-cell:/c%3A/Users/chelo/Documents/projects/ia/riverCross/Clase%201%20Input%20Agent%20with%20Graph.ipynb#W3sZmlsZQ%3D%3D?line=11'>12</a>\u001b[0m     action \u001b[39m=\u001b[39m agent\u001b[39m.\u001b[39;49minput_action()        \n\u001b[0;32m     <a href='vscode-notebook-cell:/c%3A/Users/chelo/Documents/projects/ia/riverCross/Clase%201%20Input%20Agent%20with%20Graph.ipynb#W3sZmlsZQ%3D%3D?line=12'>13</a>\u001b[0m     next_obs, reward, done, debug \u001b[39m=\u001b[39m env\u001b[39m.\u001b[39mstep(action)\n\u001b[0;32m     <a href='vscode-notebook-cell:/c%3A/Users/chelo/Documents/projects/ia/riverCross/Clase%201%20Input%20Agent%20with%20Graph.ipynb#W3sZmlsZQ%3D%3D?line=13'>14</a>\u001b[0m     g\u001b[39m.\u001b[39mrender_edge(env, obs, next_obs, action, done, win(next_obs))\n",
      "File \u001b[1;32mc:\\Users\\chelo\\Documents\\projects\\ia\\riverCross\\riverCrossUtils.py:59\u001b[0m, in \u001b[0;36minput_action\u001b[1;34m()\u001b[0m\n\u001b[0;32m     56\u001b[0m input_status \u001b[39m=\u001b[39m \u001b[39mFalse\u001b[39;00m\n\u001b[0;32m     58\u001b[0m \u001b[39mwhile\u001b[39;00m(\u001b[39mnot\u001b[39;00m(input_status)):\n\u001b[1;32m---> 59\u001b[0m     user_input_passenger \u001b[39m=\u001b[39m ask_input(\u001b[39m\"\u001b[39;49m\u001b[39mIngrese el pasajero (F,C,G,W):\u001b[39;49m\u001b[39m\"\u001b[39;49m)\n\u001b[0;32m     60\u001b[0m     user_input_direction \u001b[39m=\u001b[39m ask_input(\u001b[39m\"\u001b[39m\u001b[39mIngrese la dirección (L,R):\u001b[39m\u001b[39m\"\u001b[39m)\n\u001b[0;32m     61\u001b[0m     action, input_status \u001b[39m=\u001b[39m parse_action(\n\u001b[0;32m     62\u001b[0m         user_input_direction, user_input_passenger)\n",
      "File \u001b[1;32mc:\\Users\\chelo\\Documents\\projects\\ia\\riverCross\\riverCrossUtils.py:17\u001b[0m, in \u001b[0;36mask_input\u001b[1;34m(text)\u001b[0m\n\u001b[0;32m     16\u001b[0m \u001b[39mdef\u001b[39;00m \u001b[39mask_input\u001b[39m(text):\n\u001b[1;32m---> 17\u001b[0m     ret \u001b[39m=\u001b[39m \u001b[39minput\u001b[39;49m(text)\n\u001b[0;32m     18\u001b[0m     \u001b[39mreturn\u001b[39;00m ret\n",
      "File \u001b[1;32mc:\\Users\\chelo\\Documents\\projects\\ia\\.venv\\lib\\site-packages\\ipykernel\\kernelbase.py:1177\u001b[0m, in \u001b[0;36mKernel.raw_input\u001b[1;34m(self, prompt)\u001b[0m\n\u001b[0;32m   1173\u001b[0m \u001b[39mif\u001b[39;00m \u001b[39mnot\u001b[39;00m \u001b[39mself\u001b[39m\u001b[39m.\u001b[39m_allow_stdin:\n\u001b[0;32m   1174\u001b[0m     \u001b[39mraise\u001b[39;00m StdinNotImplementedError(\n\u001b[0;32m   1175\u001b[0m         \u001b[39m\"\u001b[39m\u001b[39mraw_input was called, but this frontend does not support input requests.\u001b[39m\u001b[39m\"\u001b[39m\n\u001b[0;32m   1176\u001b[0m     )\n\u001b[1;32m-> 1177\u001b[0m \u001b[39mreturn\u001b[39;00m \u001b[39mself\u001b[39;49m\u001b[39m.\u001b[39;49m_input_request(\n\u001b[0;32m   1178\u001b[0m     \u001b[39mstr\u001b[39;49m(prompt),\n\u001b[0;32m   1179\u001b[0m     \u001b[39mself\u001b[39;49m\u001b[39m.\u001b[39;49m_parent_ident[\u001b[39m\"\u001b[39;49m\u001b[39mshell\u001b[39;49m\u001b[39m\"\u001b[39;49m],\n\u001b[0;32m   1180\u001b[0m     \u001b[39mself\u001b[39;49m\u001b[39m.\u001b[39;49mget_parent(\u001b[39m\"\u001b[39;49m\u001b[39mshell\u001b[39;49m\u001b[39m\"\u001b[39;49m),\n\u001b[0;32m   1181\u001b[0m     password\u001b[39m=\u001b[39;49m\u001b[39mFalse\u001b[39;49;00m,\n\u001b[0;32m   1182\u001b[0m )\n",
      "File \u001b[1;32mc:\\Users\\chelo\\Documents\\projects\\ia\\.venv\\lib\\site-packages\\ipykernel\\kernelbase.py:1219\u001b[0m, in \u001b[0;36mKernel._input_request\u001b[1;34m(self, prompt, ident, parent, password)\u001b[0m\n\u001b[0;32m   1216\u001b[0m             \u001b[39mbreak\u001b[39;00m\n\u001b[0;32m   1217\u001b[0m \u001b[39mexcept\u001b[39;00m \u001b[39mKeyboardInterrupt\u001b[39;00m:\n\u001b[0;32m   1218\u001b[0m     \u001b[39m# re-raise KeyboardInterrupt, to truncate traceback\u001b[39;00m\n\u001b[1;32m-> 1219\u001b[0m     \u001b[39mraise\u001b[39;00m \u001b[39mKeyboardInterrupt\u001b[39;00m(\u001b[39m\"\u001b[39m\u001b[39mInterrupted by user\u001b[39m\u001b[39m\"\u001b[39m) \u001b[39mfrom\u001b[39;00m \u001b[39mNone\u001b[39m\n\u001b[0;32m   1220\u001b[0m \u001b[39mexcept\u001b[39;00m \u001b[39mException\u001b[39;00m:\n\u001b[0;32m   1221\u001b[0m     \u001b[39mself\u001b[39m\u001b[39m.\u001b[39mlog\u001b[39m.\u001b[39mwarning(\u001b[39m\"\u001b[39m\u001b[39mInvalid Message:\u001b[39m\u001b[39m\"\u001b[39m, exc_info\u001b[39m=\u001b[39m\u001b[39mTrue\u001b[39;00m)\n",
      "\u001b[1;31mKeyboardInterrupt\u001b[0m: Interrupted by user"
     ]
    }
   ],
   "source": [
    "run()"
   ]
  }
 ],
 "metadata": {
  "kernelspec": {
   "display_name": "Python 3.10.0b3 ('.venv': venv)",
   "language": "python",
   "name": "python3"
  },
  "language_info": {
   "codemirror_mode": {
    "name": "ipython",
    "version": 3
   },
   "file_extension": ".py",
   "mimetype": "text/x-python",
   "name": "python",
   "nbconvert_exporter": "python",
   "pygments_lexer": "ipython3",
   "version": "3.10.0b3"
  },
  "vscode": {
   "interpreter": {
    "hash": "605e4aa0ec28c0f226a7ab65dbc046e797047096beb553d17c2780896666e61a"
   }
  }
 },
 "nbformat": 4,
 "nbformat_minor": 2
}
