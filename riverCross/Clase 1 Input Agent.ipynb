{
 "cells": [
  {
   "cell_type": "code",
   "execution_count": 1,
   "metadata": {},
   "outputs": [],
   "source": [
    "import sys\n",
    "# !{sys.executable} -m pip install -U gym"
   ]
  },
  {
   "cell_type": "code",
   "execution_count": 2,
   "metadata": {},
   "outputs": [],
   "source": [
    "from riverCrossEnv import RiverCrossEnv\n",
    "from riverCrossUtils import finish, win\n",
    "import riverCrossInputAgent as agent"
   ]
  },
  {
   "cell_type": "code",
   "execution_count": 3,
   "metadata": {},
   "outputs": [],
   "source": [
    "def run():\n",
    "    \n",
    "    env = RiverCrossEnv()\n",
    "    \n",
    "    done = False\n",
    "    obs = env.reset()\n",
    "    \n",
    "    while (not(done)):\n",
    "        env.render()\n",
    "        action = agent.input_action()        \n",
    "        next_obs, reward, done, debug = env.step(action)\n",
    "        obs = next_obs\n",
    "       \n",
    "    env.render()\n",
    "    finish(obs)"
   ]
  },
  {
   "cell_type": "code",
   "execution_count": 4,
   "metadata": {
    "scrolled": false,
    "slideshow": {
     "slide_type": "fragment"
    }
   },
   "outputs": [
    {
     "name": "stdout",
     "output_type": "stream",
     "text": [
      "CGW< __\n",
      "Codigo de pasajero desconocido.\n",
      "Codigo de direccion desconocida.\n",
      "Codigo de pasajero desconocido.\n",
      "Codigo de direccion desconocida.\n",
      "Codigo de pasajero desconocido.\n",
      "Codigo de direccion desconocida.\n",
      "CW > _G\n",
      "CW > _G\n",
      "CW < _G\n",
      "C_ > WG\n",
      "C_ > WG\n",
      "Codigo de pasajero desconocido.\n",
      "Codigo de direccion desconocida.\n",
      "CG < _W\n",
      "G_ > WC\n",
      "G_ < WC\n",
      "__ >WGC\n",
      "Felicitaciones, ganaste!\n"
     ]
    }
   ],
   "source": [
    "run()"
   ]
  }
 ],
 "metadata": {
  "kernelspec": {
   "display_name": "Python 3.10.0b3 ('.venv': venv)",
   "language": "python",
   "name": "python3"
  },
  "language_info": {
   "codemirror_mode": {
    "name": "ipython",
    "version": 3
   },
   "file_extension": ".py",
   "mimetype": "text/x-python",
   "name": "python",
   "nbconvert_exporter": "python",
   "pygments_lexer": "ipython3",
   "version": "3.10.0b3"
  },
  "vscode": {
   "interpreter": {
    "hash": "605e4aa0ec28c0f226a7ab65dbc046e797047096beb553d17c2780896666e61a"
   }
  }
 },
 "nbformat": 4,
 "nbformat_minor": 2
}
