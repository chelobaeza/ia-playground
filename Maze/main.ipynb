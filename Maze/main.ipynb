{
 "cells": [
  {
   "cell_type": "code",
   "execution_count": null,
   "metadata": {},
   "outputs": [],
   "source": [
    "from main import main\n",
    "\n",
    "main()"
   ]
  },
  {
   "cell_type": "code",
   "execution_count": 5,
   "metadata": {},
   "outputs": [
    {
     "name": "stdout",
     "output_type": "stream",
     "text": [
      "[3, 2, 1]\n"
     ]
    },
    {
     "data": {
      "text/plain": [
       "2"
      ]
     },
     "execution_count": 5,
     "metadata": {},
     "output_type": "execute_result"
    }
   ],
   "source": [
    "from queue import Queue\n",
    "from priorityQueue import PriorityQueue\n",
    "import queue\n",
    "\n",
    "\n",
    "t = []\n",
    "t.insert(0, 1)\n",
    "t.insert(0, 2)\n",
    "t.insert(0, 3)\n",
    "print(t)\n",
    "t[1]"
   ]
  },
  {
   "cell_type": "code",
   "execution_count": 39,
   "metadata": {},
   "outputs": [],
   "source": [
    "class Recurssion:\n",
    "    elements = [3,2,1]\n",
    "    def method(self, index):\n",
    "        print(\"inicio\")\n",
    "        print(f\"{self.elements[index]} == {self.elements[-1]}\")\n",
    "        if self.elements[index] != self.elements[-1]:\n",
    "            yield from self.method(index+1)\n",
    "        yield self.elements[index]\n",
    "    \n",
    "    def generator(self):\n",
    "        yield self.method(0)\n",
    "\n",
    "r = Recurssion()"
   ]
  },
  {
   "cell_type": "code",
   "execution_count": 40,
   "metadata": {},
   "outputs": [
    {
     "name": "stdout",
     "output_type": "stream",
     "text": [
      "inicio\n",
      "3 == 1\n",
      "inicio\n",
      "2 == 1\n",
      "inicio\n",
      "1 == 1\n",
      "1\n",
      "2\n",
      "3\n"
     ]
    }
   ],
   "source": [
    "\n",
    "for item in r.method(0):\n",
    "    print(item)"
   ]
  }
 ],
 "metadata": {
  "kernelspec": {
   "display_name": "Python 3.10.0b3 ('.venv': venv)",
   "language": "python",
   "name": "python3"
  },
  "language_info": {
   "codemirror_mode": {
    "name": "ipython",
    "version": 3
   },
   "file_extension": ".py",
   "mimetype": "text/x-python",
   "name": "python",
   "nbconvert_exporter": "python",
   "pygments_lexer": "ipython3",
   "version": "3.10.0b3"
  },
  "orig_nbformat": 4,
  "vscode": {
   "interpreter": {
    "hash": "605e4aa0ec28c0f226a7ab65dbc046e797047096beb553d17c2780896666e61a"
   }
  }
 },
 "nbformat": 4,
 "nbformat_minor": 2
}
