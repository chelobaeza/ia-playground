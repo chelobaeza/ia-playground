{
 "cells": [
  {
   "cell_type": "code",
   "execution_count": 1,
   "metadata": {},
   "outputs": [],
   "source": [
    "import gym\n",
    "import numpy as np\n",
    "from gym import error, spaces, utils, Env\n",
    "import matplotlib.pyplot as plt\n",
    "from sklearn.metrics import mean_squared_error, mean_absolute_error"
   ]
  },
  {
   "cell_type": "markdown",
   "metadata": {},
   "source": [
    "# Descripción del problema\n",
    "\n",
    "El siguiente ejemplo consiste en un Ambiente (Room). La temperatura de la habitación cambia debido a la temperatura externa ambiente (se asume de forma desconocida). La habitación cuenta con un equipo de Aire Acondicionado controlado por un Agente. El objetivo de este Agente es mantener la temperatura en 0 grados. El Aire Acondicionado puede cambiar la temperatura en 0, 1, 2 o 3 grados ya sea frío o calor."
   ]
  },
  {
   "cell_type": "markdown",
   "metadata": {},
   "source": [
    "# Ambiente\n",
    "\n",
    "El ambiente (Room) está simulado por el siguiente código"
   ]
  },
  {
   "cell_type": "code",
   "execution_count": 2,
   "metadata": {},
   "outputs": [],
   "source": [
    "class Room(Env):\n",
    "    \n",
    "    def __init__(self):\n",
    "        self.observation_space = spaces.Box(low=-20, high=40, shape=(), dtype=np.float32)\n",
    "        self.action_space = spaces.Discrete(7, start=-3)\n",
    "                  \n",
    "    def reset(self):\n",
    "        self.step_count = 0\n",
    "        self.initial_random = self.observation_space.sample()\n",
    "        self.external_temp = 0\n",
    "        self.external_temp = self._temp_variation()\n",
    "        self.temp = self.external_temp\n",
    "        return self.temp\n",
    "    \n",
    "    def step(self, action):\n",
    "        delta_temp = self._temp_variation()\n",
    "        self.external_temp += delta_temp\n",
    "        self.temp += delta_temp + action\n",
    "        self.step_count += 1\n",
    "        return self.temp\n",
    "\n",
    "    def _temp_variation(self):\n",
    "        x = self.initial_random + self.step_count\n",
    "        return np.float64('%.2f'%(20 * np.sin(x/10))) - self.external_temp \n",
    "          "
   ]
  },
  {
   "cell_type": "markdown",
   "metadata": {},
   "source": [
    "# Test Room"
   ]
  },
  {
   "cell_type": "code",
   "execution_count": 3,
   "metadata": {},
   "outputs": [],
   "source": [
    "env = Room()"
   ]
  },
  {
   "cell_type": "code",
   "execution_count": 4,
   "metadata": {},
   "outputs": [
    {
     "data": {
      "text/plain": [
       "Box(-20.0, 40.0, (), float32)"
      ]
     },
     "execution_count": 4,
     "metadata": {},
     "output_type": "execute_result"
    }
   ],
   "source": [
    "env.observation_space"
   ]
  },
  {
   "cell_type": "code",
   "execution_count": 5,
   "metadata": {},
   "outputs": [
    {
     "data": {
      "text/plain": [
       "array(16.595984, dtype=float32)"
      ]
     },
     "execution_count": 5,
     "metadata": {},
     "output_type": "execute_result"
    }
   ],
   "source": [
    "env.observation_space.sample()"
   ]
  },
  {
   "cell_type": "code",
   "execution_count": 6,
   "metadata": {},
   "outputs": [
    {
     "data": {
      "text/plain": [
       "Discrete(7, start=-3)"
      ]
     },
     "execution_count": 6,
     "metadata": {},
     "output_type": "execute_result"
    }
   ],
   "source": [
    "env.action_space"
   ]
  },
  {
   "cell_type": "code",
   "execution_count": 7,
   "metadata": {},
   "outputs": [
    {
     "data": {
      "text/plain": [
       "1"
      ]
     },
     "execution_count": 7,
     "metadata": {},
     "output_type": "execute_result"
    }
   ],
   "source": [
    "env.action_space.sample()"
   ]
  },
  {
   "cell_type": "code",
   "execution_count": 8,
   "metadata": {},
   "outputs": [
    {
     "data": {
      "text/plain": [
       "0.53"
      ]
     },
     "execution_count": 8,
     "metadata": {},
     "output_type": "execute_result"
    }
   ],
   "source": [
    "env.reset()"
   ]
  },
  {
   "cell_type": "markdown",
   "metadata": {},
   "source": [
    "# Reflex Agente\n",
    "\n",
    "Esta es la implementación de un Agente Reflejo Simple, que dada la observación (temperatura de la habitación), toma una acción de enfriar o calentar en 0, 1, 2 o 3 grados. El agente solo enfría o calienta si la temperatura difiere en más de 2 grados."
   ]
  },
  {
   "cell_type": "code",
   "execution_count": 9,
   "metadata": {},
   "outputs": [],
   "source": [
    "class AgentReflex():\n",
    "\n",
    "    def lookup(self, obs):\n",
    "        if obs > 9:\n",
    "            return -3\n",
    "        elif obs > 5:\n",
    "            return -2\n",
    "        elif obs > 2:\n",
    "            return -1\n",
    "        elif obs < -2:\n",
    "            return 1\n",
    "        elif obs < -5:\n",
    "            return 2\n",
    "        elif obs < -9:\n",
    "            return 3\n",
    "        else:\n",
    "            return 0"
   ]
  },
  {
   "cell_type": "code",
   "execution_count": null,
   "metadata": {},
   "outputs": [],
   "source": []
  },
  {
   "cell_type": "code",
   "execution_count": 10,
   "metadata": {},
   "outputs": [],
   "source": [
    "\n",
    "# Model Based Agent\n",
    "from functools import reduce\n",
    "\n",
    "\n",
    "class State:\n",
    "    MAX_TEMP_ADJUSTMENT = 3\n",
    "    temperature = 0\n",
    "    adjustment = 0\n",
    "    \n",
    "    \n",
    "    def __init__(self, temp) -> None:\n",
    "        self.temperature = temp\n",
    "    \n",
    "    def action(self, **kwargs):\n",
    "        \"\"\"return value between -3,3\"\"\"\n",
    "        history_adjustment = 0\n",
    "        if 'history_temperatures' in kwargs:\n",
    "            history = kwargs['history_temperatures']\n",
    "            history_adjustment = self.adjustment_from_history(history)\n",
    "        if self.temperature > -self.MAX_TEMP_ADJUSTMENT and self.temperature < self.MAX_TEMP_ADJUSTMENT:\n",
    "            self.adjustment = abs(self.temperature) + history_adjustment\n",
    "        else:\n",
    "            self.adjustment = self.MAX_TEMP_ADJUSTMENT\n",
    "        assert self.adjustment <= 3 and self.adjustment >= -3\n",
    "        print(f\"total adjustment {self.adjustment}\")\n",
    "        return self.adjustment\n",
    "    \n",
    "    def adjustment_from_history(self, history):\n",
    "        history = list(filter(lambda x: abs(x) if x <= 3 else None, history ))\n",
    "        adjustment = 0\n",
    "        steps_between_temps = []\n",
    "        if history:\n",
    "            prev = history[0]\n",
    "            for temp in history:\n",
    "                abs_temp = temp\n",
    "                if abs_temp <= self.MAX_TEMP_ADJUSTMENT:\n",
    "                    steps_between_temps.append(temp-prev)\n",
    "                prev = temp\n",
    "        adjustment = np.mean(steps_between_temps)\n",
    "        print(f\"adjustment from history {adjustment}\")\n",
    "        return 0\n",
    "        \n",
    "\n",
    "class ColdState(State):\n",
    "    def action(self, **kwargs):\n",
    "        return super().action(**kwargs)\n",
    "\n",
    "class HotState(State):\n",
    "    def action(self, **kwargs):\n",
    "        return -super().action(**kwargs)\n",
    "\n",
    "class GoalBasedAgent:\n",
    "    states = None\n",
    "    prefered_temperature = 0\n",
    "    \n",
    "    def __init__(self) -> None:\n",
    "        self.states = []\n",
    "    \n",
    "    def lookup(self, obs):\n",
    "        \"\"\"retorna cuantos grados aumenta o disminuye [-3,3]\"\"\"\n",
    "        state = None\n",
    "        if obs > self.prefered_temperature:\n",
    "            state = HotState(obs)\n",
    "        else:# obs < 0:\n",
    "            state = ColdState(obs)\n",
    "        \n",
    "        adjustment = state.action(history_temperatures=list(map(lambda state: state.temperature, self.states)))\n",
    "        self.states.append(state)\n",
    "        return adjustment\n",
    "        \n"
   ]
  },
  {
   "cell_type": "code",
   "execution_count": 11,
   "metadata": {},
   "outputs": [
    {
     "name": "stdout",
     "output_type": "stream",
     "text": [
      "[3, 4]\n"
     ]
    }
   ],
   "source": [
    "a = [1,2,3,4]\n",
    "print(a[-2:])"
   ]
  },
  {
   "cell_type": "markdown",
   "metadata": {},
   "source": [
    "# Test Reflex"
   ]
  },
  {
   "cell_type": "code",
   "execution_count": 12,
   "metadata": {},
   "outputs": [],
   "source": [
    "#agent = AgentReflex()\n",
    "agent = GoalBasedAgent()"
   ]
  },
  {
   "cell_type": "code",
   "execution_count": 13,
   "metadata": {},
   "outputs": [],
   "source": [
    "obs = env.reset()\n",
    "external_res = []\n",
    "agent_res = []\n",
    "total_steps = 100"
   ]
  },
  {
   "cell_type": "code",
   "execution_count": 14,
   "metadata": {},
   "outputs": [
    {
     "name": "stderr",
     "output_type": "stream",
     "text": [
      "c:\\Users\\chelo\\Documents\\projects\\ia\\.venv\\lib\\site-packages\\numpy\\core\\fromnumeric.py:3432: RuntimeWarning: Mean of empty slice.\n",
      "  return _methods._mean(a, axis=axis, dtype=dtype,\n",
      "c:\\Users\\chelo\\Documents\\projects\\ia\\.venv\\lib\\site-packages\\numpy\\core\\_methods.py:190: RuntimeWarning: invalid value encountered in double_scalars\n",
      "  ret = ret.dtype.type(ret / rcount)\n"
     ]
    },
    {
     "name": "stdout",
     "output_type": "stream",
     "text": [
      "adjustment from history nan\n",
      "total adjustment 3\n",
      "External: -3.68 \n",
      " Prev. Obs: -3.68 -> Action: 3 -> Room: -0.6800000000000002\n",
      "adjustment from history 0.0\n",
      "total adjustment 0.6800000000000002\n",
      "External: -3.68 \n",
      " Prev. Obs: -0.6800000000000002 -> Action: 0.6800000000000002 -> Room: 1.98\n",
      "adjustment from history 1.5\n"
     ]
    },
    {
     "ename": "AssertionError",
     "evalue": "",
     "output_type": "error",
     "traceback": [
      "\u001b[1;31m---------------------------------------------------------------------------\u001b[0m",
      "\u001b[1;31mAssertionError\u001b[0m                            Traceback (most recent call last)",
      "\u001b[1;32mc:\\Users\\chelo\\Documents\\projects\\ia\\AireAcondicionado\\AireAcondicionado.ipynb Celda 20\u001b[0m in \u001b[0;36m<cell line: 1>\u001b[1;34m()\u001b[0m\n\u001b[0;32m      <a href='vscode-notebook-cell:/c%3A/Users/chelo/Documents/projects/ia/AireAcondicionado/AireAcondicionado.ipynb#X25sZmlsZQ%3D%3D?line=8'>9</a>\u001b[0m \u001b[39m# decisión y acción del agente\u001b[39;00m\n\u001b[0;32m     <a href='vscode-notebook-cell:/c%3A/Users/chelo/Documents/projects/ia/AireAcondicionado/AireAcondicionado.ipynb#X25sZmlsZQ%3D%3D?line=10'>11</a>\u001b[0m prev_obs \u001b[39m=\u001b[39m obs\n\u001b[1;32m---> <a href='vscode-notebook-cell:/c%3A/Users/chelo/Documents/projects/ia/AireAcondicionado/AireAcondicionado.ipynb#X25sZmlsZQ%3D%3D?line=11'>12</a>\u001b[0m action \u001b[39m=\u001b[39m agent\u001b[39m.\u001b[39;49mlookup(obs)\n\u001b[0;32m     <a href='vscode-notebook-cell:/c%3A/Users/chelo/Documents/projects/ia/AireAcondicionado/AireAcondicionado.ipynb#X25sZmlsZQ%3D%3D?line=12'>13</a>\u001b[0m obs \u001b[39m=\u001b[39m env\u001b[39m.\u001b[39mstep(action)\n\u001b[0;32m     <a href='vscode-notebook-cell:/c%3A/Users/chelo/Documents/projects/ia/AireAcondicionado/AireAcondicionado.ipynb#X25sZmlsZQ%3D%3D?line=13'>14</a>\u001b[0m agent_res\u001b[39m.\u001b[39mappend(obs)  \n",
      "\u001b[1;32mc:\\Users\\chelo\\Documents\\projects\\ia\\AireAcondicionado\\AireAcondicionado.ipynb Celda 20\u001b[0m in \u001b[0;36mGoalBasedAgent.lookup\u001b[1;34m(self, obs)\u001b[0m\n\u001b[0;32m     <a href='vscode-notebook-cell:/c%3A/Users/chelo/Documents/projects/ia/AireAcondicionado/AireAcondicionado.ipynb#X25sZmlsZQ%3D%3D?line=63'>64</a>\u001b[0m \u001b[39melse\u001b[39;00m:\u001b[39m# obs < 0:\u001b[39;00m\n\u001b[0;32m     <a href='vscode-notebook-cell:/c%3A/Users/chelo/Documents/projects/ia/AireAcondicionado/AireAcondicionado.ipynb#X25sZmlsZQ%3D%3D?line=64'>65</a>\u001b[0m     state \u001b[39m=\u001b[39m ColdState(obs)\n\u001b[1;32m---> <a href='vscode-notebook-cell:/c%3A/Users/chelo/Documents/projects/ia/AireAcondicionado/AireAcondicionado.ipynb#X25sZmlsZQ%3D%3D?line=66'>67</a>\u001b[0m adjustment \u001b[39m=\u001b[39m state\u001b[39m.\u001b[39;49maction(history_temperatures\u001b[39m=\u001b[39;49m\u001b[39mlist\u001b[39;49m(\u001b[39mmap\u001b[39;49m(\u001b[39mlambda\u001b[39;49;00m state: state\u001b[39m.\u001b[39;49mtemperature, \u001b[39mself\u001b[39;49m\u001b[39m.\u001b[39;49mstates)))\n\u001b[0;32m     <a href='vscode-notebook-cell:/c%3A/Users/chelo/Documents/projects/ia/AireAcondicionado/AireAcondicionado.ipynb#X25sZmlsZQ%3D%3D?line=67'>68</a>\u001b[0m \u001b[39mself\u001b[39m\u001b[39m.\u001b[39mstates\u001b[39m.\u001b[39mappend(state)\n\u001b[0;32m     <a href='vscode-notebook-cell:/c%3A/Users/chelo/Documents/projects/ia/AireAcondicionado/AireAcondicionado.ipynb#X25sZmlsZQ%3D%3D?line=68'>69</a>\u001b[0m \u001b[39mreturn\u001b[39;00m adjustment\n",
      "\u001b[1;32mc:\\Users\\chelo\\Documents\\projects\\ia\\AireAcondicionado\\AireAcondicionado.ipynb Celda 20\u001b[0m in \u001b[0;36mHotState.action\u001b[1;34m(self, **kwargs)\u001b[0m\n\u001b[0;32m     <a href='vscode-notebook-cell:/c%3A/Users/chelo/Documents/projects/ia/AireAcondicionado/AireAcondicionado.ipynb#X25sZmlsZQ%3D%3D?line=48'>49</a>\u001b[0m \u001b[39mdef\u001b[39;00m \u001b[39maction\u001b[39m(\u001b[39mself\u001b[39m, \u001b[39m*\u001b[39m\u001b[39m*\u001b[39mkwargs):\n\u001b[1;32m---> <a href='vscode-notebook-cell:/c%3A/Users/chelo/Documents/projects/ia/AireAcondicionado/AireAcondicionado.ipynb#X25sZmlsZQ%3D%3D?line=49'>50</a>\u001b[0m     \u001b[39mreturn\u001b[39;00m \u001b[39m-\u001b[39m\u001b[39msuper\u001b[39m()\u001b[39m.\u001b[39maction(\u001b[39m*\u001b[39m\u001b[39m*\u001b[39mkwargs)\n",
      "\u001b[1;32mc:\\Users\\chelo\\Documents\\projects\\ia\\AireAcondicionado\\AireAcondicionado.ipynb Celda 20\u001b[0m in \u001b[0;36mState.action\u001b[1;34m(self, **kwargs)\u001b[0m\n\u001b[0;32m     <a href='vscode-notebook-cell:/c%3A/Users/chelo/Documents/projects/ia/AireAcondicionado/AireAcondicionado.ipynb#X25sZmlsZQ%3D%3D?line=21'>22</a>\u001b[0m \u001b[39melse\u001b[39;00m:\n\u001b[0;32m     <a href='vscode-notebook-cell:/c%3A/Users/chelo/Documents/projects/ia/AireAcondicionado/AireAcondicionado.ipynb#X25sZmlsZQ%3D%3D?line=22'>23</a>\u001b[0m     \u001b[39mself\u001b[39m\u001b[39m.\u001b[39madjustment \u001b[39m=\u001b[39m \u001b[39mself\u001b[39m\u001b[39m.\u001b[39mMAX_TEMP_ADJUSTMENT\n\u001b[1;32m---> <a href='vscode-notebook-cell:/c%3A/Users/chelo/Documents/projects/ia/AireAcondicionado/AireAcondicionado.ipynb#X25sZmlsZQ%3D%3D?line=23'>24</a>\u001b[0m \u001b[39massert\u001b[39;00m \u001b[39mself\u001b[39m\u001b[39m.\u001b[39madjustment \u001b[39m<\u001b[39m\u001b[39m=\u001b[39m \u001b[39m3\u001b[39m \u001b[39mand\u001b[39;00m \u001b[39mself\u001b[39m\u001b[39m.\u001b[39madjustment \u001b[39m>\u001b[39m\u001b[39m=\u001b[39m \u001b[39m-\u001b[39m\u001b[39m3\u001b[39m\n\u001b[0;32m     <a href='vscode-notebook-cell:/c%3A/Users/chelo/Documents/projects/ia/AireAcondicionado/AireAcondicionado.ipynb#X25sZmlsZQ%3D%3D?line=24'>25</a>\u001b[0m \u001b[39mprint\u001b[39m(\u001b[39mf\u001b[39m\u001b[39m\"\u001b[39m\u001b[39mtotal adjustment \u001b[39m\u001b[39m{\u001b[39;00m\u001b[39mself\u001b[39m\u001b[39m.\u001b[39madjustment\u001b[39m}\u001b[39;00m\u001b[39m\"\u001b[39m)\n\u001b[0;32m     <a href='vscode-notebook-cell:/c%3A/Users/chelo/Documents/projects/ia/AireAcondicionado/AireAcondicionado.ipynb#X25sZmlsZQ%3D%3D?line=25'>26</a>\u001b[0m \u001b[39mreturn\u001b[39;00m \u001b[39mself\u001b[39m\u001b[39m.\u001b[39madjustment\n",
      "\u001b[1;31mAssertionError\u001b[0m: "
     ]
    }
   ],
   "source": [
    "for i in range(0, total_steps):  \n",
    "    \n",
    "    # solamente para evaluar la evolución de la temperatura de la habitación con y sin agente\n",
    "    # la temperatura de la habitación sin el agente es igual a la temperatura exterior\n",
    "    \n",
    "    external_temp = env.external_temp\n",
    "    external_res.append(external_temp)\n",
    "    \n",
    "    # decisión y acción del agente\n",
    "    \n",
    "    prev_obs = obs\n",
    "    action = agent.lookup(obs)\n",
    "    obs = env.step(action)\n",
    "    agent_res.append(obs)  \n",
    "    \n",
    "    print('External:', external_temp, '\\n','Prev. Obs:', prev_obs, '-> Action:', action, '-> Room:', obs)"
   ]
  },
  {
   "cell_type": "markdown",
   "metadata": {},
   "source": [
    "# Graficando los resultados"
   ]
  },
  {
   "cell_type": "code",
   "execution_count": null,
   "metadata": {},
   "outputs": [
    {
     "data": {
      "text/plain": [
       "[<matplotlib.lines.Line2D at 0x2020e7907f0>]"
      ]
     },
     "execution_count": 1946,
     "metadata": {},
     "output_type": "execute_result"
    },
    {
     "data": {
      "image/png": "[encoded data removed]",
      "text/plain": [
       "<Figure size 640x480 with 1 Axes>"
      ]
     },
     "metadata": {},
     "output_type": "display_data"
    }
   ],
   "source": [
    "plt.axhline(color='black')                                  #Temperatura ideal\n",
    "plt.plot(range(0, total_steps), agent_res, color='red')     #Temperatura con el agente\n",
    "plt.plot(range(0, total_steps), external_res, color='blue') #Temperatura sin agente"
   ]
  },
  {
   "cell_type": "markdown",
   "metadata": {},
   "source": [
    "# Métrica de Performance\n",
    "Una posible métrica de performance, podría ser ver la temperatura media del ambiente con la acción del agente."
   ]
  },
  {
   "cell_type": "code",
   "execution_count": null,
   "metadata": {},
   "outputs": [
    {
     "name": "stdout",
     "output_type": "stream",
     "text": [
      "Temperatura media con el agente:  -0.035599999999999986\n",
      "Temperatura media sin el agente:  3.8566000000000003\n"
     ]
    }
   ],
   "source": [
    "print(\"Temperatura media con el agente: \", np.mean(agent_res))\n",
    "print(\"Temperatura media sin el agente: \", np.mean(external_res))"
   ]
  },
  {
   "cell_type": "markdown",
   "metadata": {},
   "source": [
    "Otra posible métrica de performance, es evaluar para cada instante de tiempo (step) cuanto difiere la temperatura obtenida de la objetivo=0. Esto se puede hacer con mean_squared_error o mean_absolute_error. \n",
    "Comparemos la métrica obtenida por el agente contra la métrica obtenida sin un agente:"
   ]
  },
  {
   "cell_type": "code",
   "execution_count": null,
   "metadata": {},
   "outputs": [
    {
     "name": "stdout",
     "output_type": "stream",
     "text": [
      "Variación media con el agente:  1.2934\n",
      "Variación media sin el agente:  12.145199999999999\n"
     ]
    }
   ],
   "source": [
    "goal_temp = np.zeros(total_steps)\n",
    "print(\"Variación media con el agente: \", mean_absolute_error(goal_temp, agent_res))\n",
    "print(\"Variación media sin el agente: \", mean_absolute_error(goal_temp, external_res))"
   ]
  },
  {
   "cell_type": "markdown",
   "metadata": {},
   "source": [
    "# Ejercicio: Model (Goal / Utility) Based Agent "
   ]
  },
  {
   "cell_type": "markdown",
   "metadata": {},
   "source": [
    "Construir un Agente basado en un modelo. \n",
    "Esto es: \n",
    "    - Construir un modelo a mano, por ejemplo un grafo, con estados y transiciones [Ver figura].\n",
    "    - Discretizar las observaciones devueltas por el ambiente mapeándolas a un estado.\n",
    "    - Tomar una decisón basada en el estado.\n",
    "    - Definir un objetivo y una utilidad\n",
    "\n",
    "Por ejemplo, el Agente podría conocer un modelo que tiene 2 estados {Frío, Calor}\n",
    "<img src=\"Modelo.png\">\n",
    "\n",
    "\n",
    "\n"
   ]
  },
  {
   "cell_type": "markdown",
   "metadata": {},
   "source": [
    "objetivo mantener la temperatura media en 0\n",
    "\n",
    "utilidad: que la temperatura nunca baje de 0 una vez en esa temperatura\n",
    "\n",
    "estados, tener 3 estados de frio y calor y acciones para cada uno"
   ]
  },
  {
   "cell_type": "code",
   "execution_count": null,
   "metadata": {},
   "outputs": [],
   "source": [
    "\n",
    "        "
   ]
  }
 ],
 "metadata": {
  "kernelspec": {
   "display_name": "Python 3.10.0b3 ('.venv': venv)",
   "language": "python",
   "name": "python3"
  },
  "language_info": {
   "codemirror_mode": {
    "name": "ipython",
    "version": 3
   },
   "file_extension": ".py",
   "mimetype": "text/x-python",
   "name": "python",
   "nbconvert_exporter": "python",
   "pygments_lexer": "ipython3",
   "version": "3.10.0b3"
  },
  "vscode": {
   "interpreter": {
    "hash": "605e4aa0ec28c0f226a7ab65dbc046e797047096beb553d17c2780896666e61a"
   }
  }
 },
 "nbformat": 4,
 "nbformat_minor": 4
}
