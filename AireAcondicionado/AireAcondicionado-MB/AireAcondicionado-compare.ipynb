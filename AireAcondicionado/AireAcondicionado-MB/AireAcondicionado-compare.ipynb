{
 "cells": [
  {
   "cell_type": "code",
   "execution_count": null,
   "metadata": {},
   "outputs": [],
   "source": [
    "import numpy as np\n",
    "import matplotlib.pyplot as plt\n",
    "from collections import defaultdict\n",
    "from sklearn.metrics import mean_squared_error, mean_absolute_error\n",
    "from Agents import AgentReflex, AgentModelBased\n",
    "from Room import Room"
   ]
  },
  {
   "cell_type": "code",
   "execution_count": null,
   "metadata": {},
   "outputs": [],
   "source": [
    "def run_agent(env, agent_name, total_steps):\n",
    "\n",
    "    agent_res = []\n",
    "    action_list = []\n",
    "    external_res = []\n",
    "    \n",
    "    obs = env.reset()\n",
    "    \n",
    "    for i in range(0, total_steps):  \n",
    "    \n",
    "        external_temp = env.external_temp\n",
    "        external_res.append(external_temp)\n",
    "\n",
    "        action = agent[agent_name].lookup(obs)\n",
    "        action_list.append(action)\n",
    "\n",
    "        obs = env.step(action)\n",
    "        agent_res.append(obs)  \n",
    "    \n",
    "    mae = mean_absolute_error(np.zeros(total_steps), agent_res)\n",
    "    con = np.mean(np.abs(action_list))\n",
    "    \n",
    "    return mae, con"
   ]
  },
  {
   "cell_type": "code",
   "execution_count": null,
   "metadata": {},
   "outputs": [],
   "source": [
    "agent = dict()\n",
    "agent['reflex'] = AgentReflex()\n",
    "agent['mb'] = AgentModelBased()\n",
    "agents = ['reflex', 'mb']"
   ]
  },
  {
   "cell_type": "code",
   "execution_count": null,
   "metadata": {},
   "outputs": [],
   "source": [
    "temp_variation = defaultdict(list)\n",
    "en_consumption = defaultdict(list)\n",
    "for agent_name in agents:\n",
    "    temp_variation[agent_name] = []\n",
    "    en_consumption[agent_name] = []"
   ]
  },
  {
   "cell_type": "code",
   "execution_count": null,
   "metadata": {},
   "outputs": [],
   "source": [
    "total_steps = 100\n",
    "seeds = [1, 3, 5, 7, 11, 13, 17, 19, 21, 31]"
   ]
  },
  {
   "cell_type": "code",
   "execution_count": null,
   "metadata": {},
   "outputs": [],
   "source": [
    "for seed in seeds:\n",
    "    env = Room(seed=seed)\n",
    "    for agent_name in agents:\n",
    "        tvar, econ = run_agent(env, agent_name, total_steps)\n",
    "        temp_variation[agent_name].append(tvar)\n",
    "        en_consumption[agent_name].append(econ)"
   ]
  },
  {
   "cell_type": "code",
   "execution_count": null,
   "metadata": {},
   "outputs": [],
   "source": [
    "plt.axhline(color='black')                                  \n",
    "plt.plot(range(0, len(seeds)), temp_variation['reflex'], color='red')     \n",
    "plt.plot(range(0, len(seeds)), temp_variation['mb'], color='blue')"
   ]
  },
  {
   "cell_type": "code",
   "execution_count": null,
   "metadata": {},
   "outputs": [],
   "source": [
    "plt.axhline(color='black')                                  \n",
    "plt.plot(range(0, len(seeds)), en_consumption['reflex'], color='red')     \n",
    "plt.plot(range(0, len(seeds)), en_consumption['mb'], color='blue')"
   ]
  }
 ],
 "metadata": {
  "kernelspec": {
   "display_name": "Python 3",
   "language": "python",
   "name": "python3"
  },
  "language_info": {
   "codemirror_mode": {
    "name": "ipython",
    "version": 3
   },
   "file_extension": ".py",
   "mimetype": "text/x-python",
   "name": "python",
   "nbconvert_exporter": "python",
   "pygments_lexer": "ipython3",
   "version": "3.7.6"
  }
 },
 "nbformat": 4,
 "nbformat_minor": 4
}
